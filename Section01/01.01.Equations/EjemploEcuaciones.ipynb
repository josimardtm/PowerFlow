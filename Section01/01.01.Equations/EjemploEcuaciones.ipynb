{
 "cells": [
  {
   "cell_type": "markdown",
   "id": "722065da-6f3e-44b2-93ed-adf886abc16b",
   "metadata": {},
   "source": [
    "# Ejemplo ecuaciones del flujo de potencia"
   ]
  },
  {
   "cell_type": "code",
   "execution_count": 14,
   "id": "328c7ca0-474d-49a4-9e05-b4f161f8a87a",
   "metadata": {},
   "outputs": [
    {
     "name": "stdout",
     "output_type": "stream",
     "text": [
      "Voltajes:\n",
      " [[1.00996154+0.0088138j ]\n",
      " [1.00450391+0.17712114j]\n",
      " [1.02      +0.j        ]]\n",
      "Matriz de admitancias:\n",
      " [[ 15.-35.j -10.+20.j  -5.+15.j]\n",
      " [-10.+20.j  30.-60.j -20.+40.j]\n",
      " [ -5.+15.j -20.+40.j  25.-55.j]]\n"
     ]
    }
   ],
   "source": [
    "import numpy as np\n",
    "import matplotlib.pyplot as plt\n",
    "\n",
    "# Definir datos del sistema\n",
    "n=3  \n",
    "Ybus=np.array([(15-35j,-10+20j,-5+15j),(-10+20j,30-60j,-20+40j),(-5+15j,-20+40j,25-55j)],dtype=complex)\n",
    "\n",
    "# Definir valores de voltaje\n",
    "def rad(deg):\n",
    "    return deg*np.pi/180\n",
    "\n",
    "vbusMag=[1.01,1.02,1.02]\n",
    "vbusAng=[rad(0.5),rad(10),rad(0)]\n",
    "vbus=np.zeros((n,1),dtype=complex)\n",
    "\n",
    "for i in range(0,n):\n",
    "    vbus[i]=vbusMag[i]*(np.cos(vbusAng[i])+1j*np.sin(vbusAng[i]))\n",
    "\n",
    "print('Voltajes:\\n',vbus)\n",
    "print('Matriz de admitancias:\\n',Ybus)"
   ]
  },
  {
   "cell_type": "code",
   "execution_count": 15,
   "id": "08648a9e-b7cf-4b87-bddf-ba9791c0bd6e",
   "metadata": {},
   "outputs": [
    {
     "name": "stdout",
     "output_type": "stream",
     "text": [
      "Potencia compleja:\n",
      " [[-3.27580785+1.58502992j]\n",
      " [11.18658944-4.1947797j ]\n",
      " [-6.99407731+4.44405062j]]\n"
     ]
    }
   ],
   "source": [
    "# Calcular potencias inyectadas a cada bus\n",
    "\n",
    "S=np.zeros((n,1),dtype=complex)\n",
    "for i in range(0,n):\n",
    "    S[i]=vbus[i]*np.conjugate(np.matmul(Ybus[i,:],vbus))\n",
    "    \n",
    "print('Potencia compleja:\\n',S)"
   ]
  },
  {
   "cell_type": "code",
   "execution_count": null,
   "id": "01e8f88a-d0f8-4de2-9bb1-db638da113f2",
   "metadata": {},
   "outputs": [],
   "source": []
  }
 ],
 "metadata": {
  "kernelspec": {
   "display_name": "Python 3 (ipykernel)",
   "language": "python",
   "name": "python3"
  },
  "language_info": {
   "codemirror_mode": {
    "name": "ipython",
    "version": 3
   },
   "file_extension": ".py",
   "mimetype": "text/x-python",
   "name": "python",
   "nbconvert_exporter": "python",
   "pygments_lexer": "ipython3",
   "version": "3.9.12"
  }
 },
 "nbformat": 4,
 "nbformat_minor": 5
}
