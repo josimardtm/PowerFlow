{
  "nbformat": 4,
  "nbformat_minor": 0,
  "metadata": {
    "colab": {
      "provenance": []
    },
    "kernelspec": {
      "name": "python3",
      "display_name": "Python 3"
    },
    "language_info": {
      "name": "python"
    }
  },
  "cells": [
    {
      "cell_type": "markdown",
      "source": [
        "#Ejemplo del cálculo de potencias inyectadas a cada nodo"
      ],
      "metadata": {
        "id": "U7rVPOSMKnRR"
      }
    },
    {
      "cell_type": "code",
      "execution_count": 1,
      "metadata": {
        "colab": {
          "base_uri": "https://localhost:8080/"
        },
        "id": "nIVwGCO4JwHW",
        "outputId": "948c4e97-19db-45a6-ee2a-e8eb8c413ed5"
      },
      "outputs": [
        {
          "output_type": "stream",
          "name": "stdout",
          "text": [
            "Voltajes:\n",
            " [[1.        +0.j        ]\n",
            " [1.00450391+0.17712114j]\n",
            " [1.01611859-0.08889886j]]\n",
            "Matriz de admitancias:\n",
            " [[ 15.-35.j -10.+20.j  -5.+15.j]\n",
            " [-10.+20.j  30.-60.j -20.+40.j]\n",
            " [ -5.+15.j -20.+40.j  25.-55.j]]\n"
          ]
        }
      ],
      "source": [
        "import numpy as np\n",
        "import matplotlib.pyplot as plt\n",
        "\n",
        "# Definir datos del sistema\n",
        "\n",
        "n=3\n",
        "Ybus=np.array([(15-35j,-10+20j,-5+15j),(-10+20j,30-60j,-20+40j),(-5+15j,-20+40j,25-55j)],dtype=complex)\n",
        "\n",
        "# Definir valores de voltaje\n",
        "\n",
        "def rad(deg):\n",
        "    return deg*np.pi/180\n",
        "\n",
        "vbusMag=[1.0,1.02,1.02]\n",
        "vbusAng=[rad(0),rad(10),rad(-5)]\n",
        "vbus=np.zeros((n,1),dtype=complex)\n",
        "\n",
        "for i in range(0,n):\n",
        "    vbus[i]=vbusMag[i]*(np.cos(vbusAng[i])+1j*np.sin(vbusAng[i]))\n",
        "\n",
        "print('Voltajes:\\n',vbus)\n",
        "print('Matriz de admitancias:\\n',Ybus)"
      ]
    },
    {
      "cell_type": "code",
      "source": [
        "# Calcular potencias inyectadas a cada bus\n",
        "\n",
        "S=np.zeros((n,1),dtype=complex)\n",
        "for i in range(0,n):\n",
        "    S[i]=vbus[i]*np.conjugate(np.matmul(Ybus[i,:],vbus))\n",
        "\n",
        "print('Potencia compleja:\\n',S)"
      ],
      "metadata": {
        "colab": {
          "base_uri": "https://localhost:8080/"
        },
        "id": "JvdrjRELKJdT",
        "outputId": "389b7b60-cc92-4fa6-b951-155bd7b77091"
      },
      "execution_count": 2,
      "outputs": [
        {
          "output_type": "stream",
          "name": "stdout",
          "text": [
            "Potencia compleja:\n",
            " [[ -2.334572  +0.99486008j]\n",
            " [ 15.38141253-5.02076545j]\n",
            " [-11.2740738 +7.61225291j]]\n"
          ]
        }
      ]
    }
  ]
}